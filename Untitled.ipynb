{
 "cells": [
  {
   "cell_type": "code",
   "execution_count": 1,
   "metadata": {},
   "outputs": [
    {
     "name": "stdout",
     "output_type": "stream",
     "text": [
      "✅ Folder and file structure created successfully.\n"
     ]
    }
   ],
   "source": [
    "import os\n",
    "\n",
    "folders = [\n",
    "    \"public\",\n",
    "    \"src/components/ui\",\n",
    "    \"src/pages\"\n",
    "]\n",
    "\n",
    "files = [\n",
    "    \"public/profile.jpg\",                # Placeholder, can be replaced later\n",
    "    \"src/pages/AboutPage.jsx\",\n",
    "    \"src/pages/ResumePage.jsx\",\n",
    "    \"src/pages/ProjectsPage.jsx\",\n",
    "    \"src/App.jsx\",\n",
    "    \"src/main.jsx\",\n",
    "    \"src/index.css\",\n",
    "    \"index.html\",\n",
    "    \"package.json\",\n",
    "    \"tailwind.config.js\",\n",
    "    \"postcss.config.js\",\n",
    "    \"vite.config.js\"\n",
    "]\n",
    "\n",
    "# Create directories\n",
    "for folder in folders:\n",
    "    os.makedirs(folder, exist_ok=True)\n",
    "\n",
    "# Create empty files\n",
    "for file_path in files:\n",
    "    with open(file_path, \"w\") as f:\n",
    "        pass\n",
    "\n",
    "print(\"✅ Folder and file structure created successfully.\")\n"
   ]
  },
  {
   "cell_type": "code",
   "execution_count": null,
   "metadata": {},
   "outputs": [],
   "source": []
  }
 ],
 "metadata": {
  "kernelspec": {
   "display_name": "Python 3",
   "language": "python",
   "name": "python3"
  },
  "language_info": {
   "codemirror_mode": {
    "name": "ipython",
    "version": 3
   },
   "file_extension": ".py",
   "mimetype": "text/x-python",
   "name": "python",
   "nbconvert_exporter": "python",
   "pygments_lexer": "ipython3",
   "version": "3.8.5"
  }
 },
 "nbformat": 4,
 "nbformat_minor": 4
}
